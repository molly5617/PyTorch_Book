{
 "cells": [
  {
   "cell_type": "markdown",
   "metadata": {},
   "source": [
    "## 自動微分(Automatic Differentiation)"
   ]
  },
  {
   "cell_type": "code",
   "execution_count": 1,
   "metadata": {},
   "outputs": [],
   "source": [
    "import torch"
   ]
  },
  {
   "cell_type": "code",
   "execution_count": 2,
   "metadata": {},
   "outputs": [
    {
     "name": "stdout",
     "output_type": "stream",
     "text": [
      "<PowBackward0 object at 0x1444da1a0>\n"
     ]
    }
   ],
   "source": [
    "x = torch.tensor(4.0, requires_grad=True) \n",
    "y = x ** 2  \n",
    "print(y.grad_fn) "
   ]
  },
  {
   "cell_type": "code",
   "execution_count": 3,
   "metadata": {},
   "outputs": [
    {
     "name": "stdout",
     "output_type": "stream",
     "text": [
      "tensor(16., grad_fn=<PowBackward0>)\n",
      "<PowBackward0 object at 0x1444a5870>\n",
      "tensor(8.)\n"
     ]
    }
   ],
   "source": [
    "# 設定 x 參與自動微分\n",
    "\n",
    "\n",
    "\n",
    "y = x ** 2            # y = x^2\n",
    "\n",
    "print(y)\n",
    "print(y.grad_fn)      # y 梯度函數\n",
    "y.backward()          # 反向傳導\n",
    "print(x.grad)         # 取得梯度"
   ]
  },
  {
   "cell_type": "markdown",
   "metadata": {},
   "source": [
    "## 取得變數的自動微分相關屬性值"
   ]
  },
  {
   "cell_type": "code",
   "execution_count": 4,
   "metadata": {
    "scrolled": false
   },
   "outputs": [
    {
     "name": "stdout",
     "output_type": "stream",
     "text": [
      "x\n",
      "data: 1.0\n",
      "requires_grad: True\n",
      "grad: None\n",
      "grad_fn: None\n",
      "is_leaf: True\n",
      "\n",
      "y\n",
      "data: 2.0\n",
      "requires_grad: False\n",
      "grad: None\n",
      "grad_fn: None\n",
      "is_leaf: True\n",
      "\n",
      "z\n",
      "data: 2.0\n",
      "requires_grad: True\n",
      "grad: None\n",
      "grad_fn: <MulBackward0 object at 0x14469f280>\n",
      "is_leaf: False\n",
      "\n"
     ]
    }
   ],
   "source": [
    "# 設定變數值\n",
    "x = torch.tensor(1.0, requires_grad = True)\n",
    "y = torch.tensor(2.0)\n",
    "z = x * y\n",
    "z.retain_grad()\n",
    "\n",
    "# 顯示自動微分相關屬性\n",
    "for i, name in zip([x, y, z], \"xyz\"):\n",
    "    print(f\"{name}\\ndata: {i.data}\\nrequires_grad: {i.requires_grad}\\n\" + \n",
    "            f\"grad: {i.grad}\\ngrad_fn: {i.grad_fn}\\nis_leaf: {i.is_leaf}\\n\")"
   ]
  },
  {
   "cell_type": "markdown",
   "metadata": {},
   "source": [
    "## 交叉熵(cross entropy)範例"
   ]
  },
  {
   "cell_type": "code",
   "execution_count": 5,
   "metadata": {},
   "outputs": [
    {
     "ename": "FileNotFoundError",
     "evalue": "No such file or directory: './images/cross_entropy.png'",
     "output_type": "error",
     "traceback": [
      "\u001b[0;31m---------------------------------------------------------------------------\u001b[0m",
      "\u001b[0;31mTypeError\u001b[0m                                 Traceback (most recent call last)",
      "File \u001b[0;32m~/Library/Python/3.12/lib/python/site-packages/IPython/core/display.py:1045\u001b[0m, in \u001b[0;36mImage._data_and_metadata\u001b[0;34m(self, always_both)\u001b[0m\n\u001b[1;32m   1044\u001b[0m \u001b[38;5;28;01mtry\u001b[39;00m:\n\u001b[0;32m-> 1045\u001b[0m     b64_data \u001b[38;5;241m=\u001b[39m \u001b[43mb2a_base64\u001b[49m\u001b[43m(\u001b[49m\u001b[38;5;28;43mself\u001b[39;49m\u001b[38;5;241;43m.\u001b[39;49m\u001b[43mdata\u001b[49m\u001b[43m,\u001b[49m\u001b[43m \u001b[49m\u001b[43mnewline\u001b[49m\u001b[38;5;241;43m=\u001b[39;49m\u001b[38;5;28;43;01mFalse\u001b[39;49;00m\u001b[43m)\u001b[49m\u001b[38;5;241m.\u001b[39mdecode(\u001b[38;5;124m\"\u001b[39m\u001b[38;5;124mascii\u001b[39m\u001b[38;5;124m\"\u001b[39m)\n\u001b[1;32m   1046\u001b[0m \u001b[38;5;28;01mexcept\u001b[39;00m \u001b[38;5;167;01mTypeError\u001b[39;00m \u001b[38;5;28;01mas\u001b[39;00m e:\n",
      "\u001b[0;31mTypeError\u001b[0m: a bytes-like object is required, not 'str'",
      "\nThe above exception was the direct cause of the following exception:\n",
      "\u001b[0;31mFileNotFoundError\u001b[0m                         Traceback (most recent call last)",
      "File \u001b[0;32m~/Library/Python/3.12/lib/python/site-packages/IPython/core/formatters.py:977\u001b[0m, in \u001b[0;36mMimeBundleFormatter.__call__\u001b[0;34m(self, obj, include, exclude)\u001b[0m\n\u001b[1;32m    974\u001b[0m     method \u001b[38;5;241m=\u001b[39m get_real_method(obj, \u001b[38;5;28mself\u001b[39m\u001b[38;5;241m.\u001b[39mprint_method)\n\u001b[1;32m    976\u001b[0m     \u001b[38;5;28;01mif\u001b[39;00m method \u001b[38;5;129;01mis\u001b[39;00m \u001b[38;5;129;01mnot\u001b[39;00m \u001b[38;5;28;01mNone\u001b[39;00m:\n\u001b[0;32m--> 977\u001b[0m         \u001b[38;5;28;01mreturn\u001b[39;00m \u001b[43mmethod\u001b[49m\u001b[43m(\u001b[49m\u001b[43minclude\u001b[49m\u001b[38;5;241;43m=\u001b[39;49m\u001b[43minclude\u001b[49m\u001b[43m,\u001b[49m\u001b[43m \u001b[49m\u001b[43mexclude\u001b[49m\u001b[38;5;241;43m=\u001b[39;49m\u001b[43mexclude\u001b[49m\u001b[43m)\u001b[49m\n\u001b[1;32m    978\u001b[0m     \u001b[38;5;28;01mreturn\u001b[39;00m \u001b[38;5;28;01mNone\u001b[39;00m\n\u001b[1;32m    979\u001b[0m \u001b[38;5;28;01melse\u001b[39;00m:\n",
      "File \u001b[0;32m~/Library/Python/3.12/lib/python/site-packages/IPython/core/display.py:1035\u001b[0m, in \u001b[0;36mImage._repr_mimebundle_\u001b[0;34m(self, include, exclude)\u001b[0m\n\u001b[1;32m   1033\u001b[0m \u001b[38;5;28;01mif\u001b[39;00m \u001b[38;5;28mself\u001b[39m\u001b[38;5;241m.\u001b[39membed:\n\u001b[1;32m   1034\u001b[0m     mimetype \u001b[38;5;241m=\u001b[39m \u001b[38;5;28mself\u001b[39m\u001b[38;5;241m.\u001b[39m_mimetype\n\u001b[0;32m-> 1035\u001b[0m     data, metadata \u001b[38;5;241m=\u001b[39m \u001b[38;5;28;43mself\u001b[39;49m\u001b[38;5;241;43m.\u001b[39;49m\u001b[43m_data_and_metadata\u001b[49m\u001b[43m(\u001b[49m\u001b[43malways_both\u001b[49m\u001b[38;5;241;43m=\u001b[39;49m\u001b[38;5;28;43;01mTrue\u001b[39;49;00m\u001b[43m)\u001b[49m\n\u001b[1;32m   1036\u001b[0m     \u001b[38;5;28;01mif\u001b[39;00m metadata:\n\u001b[1;32m   1037\u001b[0m         metadata \u001b[38;5;241m=\u001b[39m {mimetype: metadata}\n",
      "File \u001b[0;32m~/Library/Python/3.12/lib/python/site-packages/IPython/core/display.py:1047\u001b[0m, in \u001b[0;36mImage._data_and_metadata\u001b[0;34m(self, always_both)\u001b[0m\n\u001b[1;32m   1045\u001b[0m     b64_data \u001b[38;5;241m=\u001b[39m b2a_base64(\u001b[38;5;28mself\u001b[39m\u001b[38;5;241m.\u001b[39mdata, newline\u001b[38;5;241m=\u001b[39m\u001b[38;5;28;01mFalse\u001b[39;00m)\u001b[38;5;241m.\u001b[39mdecode(\u001b[38;5;124m\"\u001b[39m\u001b[38;5;124mascii\u001b[39m\u001b[38;5;124m\"\u001b[39m)\n\u001b[1;32m   1046\u001b[0m \u001b[38;5;28;01mexcept\u001b[39;00m \u001b[38;5;167;01mTypeError\u001b[39;00m \u001b[38;5;28;01mas\u001b[39;00m e:\n\u001b[0;32m-> 1047\u001b[0m     \u001b[38;5;28;01mraise\u001b[39;00m \u001b[38;5;167;01mFileNotFoundError\u001b[39;00m(\n\u001b[1;32m   1048\u001b[0m         \u001b[38;5;124m\"\u001b[39m\u001b[38;5;124mNo such file or directory: \u001b[39m\u001b[38;5;124m'\u001b[39m\u001b[38;5;132;01m%s\u001b[39;00m\u001b[38;5;124m'\u001b[39m\u001b[38;5;124m\"\u001b[39m \u001b[38;5;241m%\u001b[39m (\u001b[38;5;28mself\u001b[39m\u001b[38;5;241m.\u001b[39mdata)) \u001b[38;5;28;01mfrom\u001b[39;00m \u001b[38;5;21;01me\u001b[39;00m\n\u001b[1;32m   1049\u001b[0m md \u001b[38;5;241m=\u001b[39m {}\n\u001b[1;32m   1050\u001b[0m \u001b[38;5;28;01mif\u001b[39;00m \u001b[38;5;28mself\u001b[39m\u001b[38;5;241m.\u001b[39mmetadata:\n",
      "\u001b[0;31mFileNotFoundError\u001b[0m: No such file or directory: './images/cross_entropy.png'"
     ]
    },
    {
     "ename": "FileNotFoundError",
     "evalue": "No such file or directory: './images/cross_entropy.png'",
     "output_type": "error",
     "traceback": [
      "\u001b[0;31m---------------------------------------------------------------------------\u001b[0m",
      "\u001b[0;31mTypeError\u001b[0m                                 Traceback (most recent call last)",
      "File \u001b[0;32m~/Library/Python/3.12/lib/python/site-packages/IPython/core/display.py:1045\u001b[0m, in \u001b[0;36mImage._data_and_metadata\u001b[0;34m(self, always_both)\u001b[0m\n\u001b[1;32m   1044\u001b[0m \u001b[38;5;28;01mtry\u001b[39;00m:\n\u001b[0;32m-> 1045\u001b[0m     b64_data \u001b[38;5;241m=\u001b[39m \u001b[43mb2a_base64\u001b[49m\u001b[43m(\u001b[49m\u001b[38;5;28;43mself\u001b[39;49m\u001b[38;5;241;43m.\u001b[39;49m\u001b[43mdata\u001b[49m\u001b[43m,\u001b[49m\u001b[43m \u001b[49m\u001b[43mnewline\u001b[49m\u001b[38;5;241;43m=\u001b[39;49m\u001b[38;5;28;43;01mFalse\u001b[39;49;00m\u001b[43m)\u001b[49m\u001b[38;5;241m.\u001b[39mdecode(\u001b[38;5;124m\"\u001b[39m\u001b[38;5;124mascii\u001b[39m\u001b[38;5;124m\"\u001b[39m)\n\u001b[1;32m   1046\u001b[0m \u001b[38;5;28;01mexcept\u001b[39;00m \u001b[38;5;167;01mTypeError\u001b[39;00m \u001b[38;5;28;01mas\u001b[39;00m e:\n",
      "\u001b[0;31mTypeError\u001b[0m: a bytes-like object is required, not 'str'",
      "\nThe above exception was the direct cause of the following exception:\n",
      "\u001b[0;31mFileNotFoundError\u001b[0m                         Traceback (most recent call last)",
      "File \u001b[0;32m~/Library/Python/3.12/lib/python/site-packages/IPython/core/formatters.py:347\u001b[0m, in \u001b[0;36mBaseFormatter.__call__\u001b[0;34m(self, obj)\u001b[0m\n\u001b[1;32m    345\u001b[0m     method \u001b[38;5;241m=\u001b[39m get_real_method(obj, \u001b[38;5;28mself\u001b[39m\u001b[38;5;241m.\u001b[39mprint_method)\n\u001b[1;32m    346\u001b[0m     \u001b[38;5;28;01mif\u001b[39;00m method \u001b[38;5;129;01mis\u001b[39;00m \u001b[38;5;129;01mnot\u001b[39;00m \u001b[38;5;28;01mNone\u001b[39;00m:\n\u001b[0;32m--> 347\u001b[0m         \u001b[38;5;28;01mreturn\u001b[39;00m \u001b[43mmethod\u001b[49m\u001b[43m(\u001b[49m\u001b[43m)\u001b[49m\n\u001b[1;32m    348\u001b[0m     \u001b[38;5;28;01mreturn\u001b[39;00m \u001b[38;5;28;01mNone\u001b[39;00m\n\u001b[1;32m    349\u001b[0m \u001b[38;5;28;01melse\u001b[39;00m:\n",
      "File \u001b[0;32m~/Library/Python/3.12/lib/python/site-packages/IPython/core/display.py:1067\u001b[0m, in \u001b[0;36mImage._repr_png_\u001b[0;34m(self)\u001b[0m\n\u001b[1;32m   1065\u001b[0m \u001b[38;5;28;01mdef\u001b[39;00m \u001b[38;5;21m_repr_png_\u001b[39m(\u001b[38;5;28mself\u001b[39m):\n\u001b[1;32m   1066\u001b[0m     \u001b[38;5;28;01mif\u001b[39;00m \u001b[38;5;28mself\u001b[39m\u001b[38;5;241m.\u001b[39membed \u001b[38;5;129;01mand\u001b[39;00m \u001b[38;5;28mself\u001b[39m\u001b[38;5;241m.\u001b[39mformat \u001b[38;5;241m==\u001b[39m \u001b[38;5;28mself\u001b[39m\u001b[38;5;241m.\u001b[39m_FMT_PNG:\n\u001b[0;32m-> 1067\u001b[0m         \u001b[38;5;28;01mreturn\u001b[39;00m \u001b[38;5;28;43mself\u001b[39;49m\u001b[38;5;241;43m.\u001b[39;49m\u001b[43m_data_and_metadata\u001b[49m\u001b[43m(\u001b[49m\u001b[43m)\u001b[49m\n",
      "File \u001b[0;32m~/Library/Python/3.12/lib/python/site-packages/IPython/core/display.py:1047\u001b[0m, in \u001b[0;36mImage._data_and_metadata\u001b[0;34m(self, always_both)\u001b[0m\n\u001b[1;32m   1045\u001b[0m     b64_data \u001b[38;5;241m=\u001b[39m b2a_base64(\u001b[38;5;28mself\u001b[39m\u001b[38;5;241m.\u001b[39mdata, newline\u001b[38;5;241m=\u001b[39m\u001b[38;5;28;01mFalse\u001b[39;00m)\u001b[38;5;241m.\u001b[39mdecode(\u001b[38;5;124m\"\u001b[39m\u001b[38;5;124mascii\u001b[39m\u001b[38;5;124m\"\u001b[39m)\n\u001b[1;32m   1046\u001b[0m \u001b[38;5;28;01mexcept\u001b[39;00m \u001b[38;5;167;01mTypeError\u001b[39;00m \u001b[38;5;28;01mas\u001b[39;00m e:\n\u001b[0;32m-> 1047\u001b[0m     \u001b[38;5;28;01mraise\u001b[39;00m \u001b[38;5;167;01mFileNotFoundError\u001b[39;00m(\n\u001b[1;32m   1048\u001b[0m         \u001b[38;5;124m\"\u001b[39m\u001b[38;5;124mNo such file or directory: \u001b[39m\u001b[38;5;124m'\u001b[39m\u001b[38;5;132;01m%s\u001b[39;00m\u001b[38;5;124m'\u001b[39m\u001b[38;5;124m\"\u001b[39m \u001b[38;5;241m%\u001b[39m (\u001b[38;5;28mself\u001b[39m\u001b[38;5;241m.\u001b[39mdata)) \u001b[38;5;28;01mfrom\u001b[39;00m \u001b[38;5;21;01me\u001b[39;00m\n\u001b[1;32m   1049\u001b[0m md \u001b[38;5;241m=\u001b[39m {}\n\u001b[1;32m   1050\u001b[0m \u001b[38;5;28;01mif\u001b[39;00m \u001b[38;5;28mself\u001b[39m\u001b[38;5;241m.\u001b[39mmetadata:\n",
      "\u001b[0;31mFileNotFoundError\u001b[0m: No such file or directory: './images/cross_entropy.png'"
     ]
    },
    {
     "data": {
      "text/plain": [
       "<IPython.core.display.Image object>"
      ]
     },
     "execution_count": 5,
     "metadata": {},
     "output_type": "execute_result"
    }
   ],
   "source": [
    "# https://pytorch.org/tutorials/beginner/basics/autogradqs_tutorial.html\n",
    "from IPython.display import Image\n",
    "Image('./images/cross_entropy.png', width=500)"
   ]
  },
  {
   "cell_type": "code",
   "execution_count": 6,
   "metadata": {},
   "outputs": [
    {
     "name": "stdout",
     "output_type": "stream",
     "text": [
      "z 梯度函數： <AddBackward0 object at 0x1446f16f0>\n",
      "loss 梯度函數： <BinaryCrossEntropyWithLogitsBackward0 object at 0x1446f16f0>\n"
     ]
    }
   ],
   "source": [
    "x = torch.ones(5)  \n",
    "y = torch.zeros(3)  \n",
    "w = torch.randn(5, 3, requires_grad=True)\n",
    "b = torch.randn(3, requires_grad=True)\n",
    "z = torch.matmul(x, w)+b\n",
    "loss = torch.nn.functional.binary_cross_entropy_with_logits(z, y)\n",
    "\n",
    "print('z 梯度函數：', z.grad_fn)\n",
    "print('loss 梯度函數：', loss.grad_fn)"
   ]
  },
  {
   "cell_type": "code",
   "execution_count": 17,
   "metadata": {},
   "outputs": [
    {
     "ename": "RuntimeError",
     "evalue": "Trying to backward through the graph a second time (or directly access saved tensors after they have already been freed). Saved intermediate values of the graph are freed when you call .backward() or autograd.grad(). Specify retain_graph=True if you need to backward through the graph a second time or if you need to access saved tensors after calling backward.",
     "output_type": "error",
     "traceback": [
      "\u001b[0;31m---------------------------------------------------------------------------\u001b[0m",
      "\u001b[0;31mRuntimeError\u001b[0m                              Traceback (most recent call last)",
      "Cell \u001b[0;32mIn[17], line 1\u001b[0m\n\u001b[0;32m----> 1\u001b[0m \u001b[43mloss\u001b[49m\u001b[38;5;241;43m.\u001b[39;49m\u001b[43mbackward\u001b[49m\u001b[43m(\u001b[49m\u001b[43m)\u001b[49m\n\u001b[1;32m      2\u001b[0m \u001b[38;5;28mprint\u001b[39m(w\u001b[38;5;241m.\u001b[39mgrad)         \u001b[38;5;66;03m# w梯度值\u001b[39;00m\n\u001b[1;32m      3\u001b[0m \u001b[38;5;28mprint\u001b[39m(b\u001b[38;5;241m.\u001b[39mgrad)         \u001b[38;5;66;03m# b梯度值\u001b[39;00m\n",
      "File \u001b[0;32m/Library/Frameworks/Python.framework/Versions/3.12/lib/python3.12/site-packages/torch/_tensor.py:521\u001b[0m, in \u001b[0;36mTensor.backward\u001b[0;34m(self, gradient, retain_graph, create_graph, inputs)\u001b[0m\n\u001b[1;32m    511\u001b[0m \u001b[38;5;28;01mif\u001b[39;00m has_torch_function_unary(\u001b[38;5;28mself\u001b[39m):\n\u001b[1;32m    512\u001b[0m     \u001b[38;5;28;01mreturn\u001b[39;00m handle_torch_function(\n\u001b[1;32m    513\u001b[0m         Tensor\u001b[38;5;241m.\u001b[39mbackward,\n\u001b[1;32m    514\u001b[0m         (\u001b[38;5;28mself\u001b[39m,),\n\u001b[0;32m   (...)\u001b[0m\n\u001b[1;32m    519\u001b[0m         inputs\u001b[38;5;241m=\u001b[39minputs,\n\u001b[1;32m    520\u001b[0m     )\n\u001b[0;32m--> 521\u001b[0m \u001b[43mtorch\u001b[49m\u001b[38;5;241;43m.\u001b[39;49m\u001b[43mautograd\u001b[49m\u001b[38;5;241;43m.\u001b[39;49m\u001b[43mbackward\u001b[49m\u001b[43m(\u001b[49m\n\u001b[1;32m    522\u001b[0m \u001b[43m    \u001b[49m\u001b[38;5;28;43mself\u001b[39;49m\u001b[43m,\u001b[49m\u001b[43m \u001b[49m\u001b[43mgradient\u001b[49m\u001b[43m,\u001b[49m\u001b[43m \u001b[49m\u001b[43mretain_graph\u001b[49m\u001b[43m,\u001b[49m\u001b[43m \u001b[49m\u001b[43mcreate_graph\u001b[49m\u001b[43m,\u001b[49m\u001b[43m \u001b[49m\u001b[43minputs\u001b[49m\u001b[38;5;241;43m=\u001b[39;49m\u001b[43minputs\u001b[49m\n\u001b[1;32m    523\u001b[0m \u001b[43m\u001b[49m\u001b[43m)\u001b[49m\n",
      "File \u001b[0;32m/Library/Frameworks/Python.framework/Versions/3.12/lib/python3.12/site-packages/torch/autograd/__init__.py:289\u001b[0m, in \u001b[0;36mbackward\u001b[0;34m(tensors, grad_tensors, retain_graph, create_graph, grad_variables, inputs)\u001b[0m\n\u001b[1;32m    284\u001b[0m     retain_graph \u001b[38;5;241m=\u001b[39m create_graph\n\u001b[1;32m    286\u001b[0m \u001b[38;5;66;03m# The reason we repeat the same comment below is that\u001b[39;00m\n\u001b[1;32m    287\u001b[0m \u001b[38;5;66;03m# some Python versions print out the first line of a multi-line function\u001b[39;00m\n\u001b[1;32m    288\u001b[0m \u001b[38;5;66;03m# calls in the traceback and some print out the last line\u001b[39;00m\n\u001b[0;32m--> 289\u001b[0m \u001b[43m_engine_run_backward\u001b[49m\u001b[43m(\u001b[49m\n\u001b[1;32m    290\u001b[0m \u001b[43m    \u001b[49m\u001b[43mtensors\u001b[49m\u001b[43m,\u001b[49m\n\u001b[1;32m    291\u001b[0m \u001b[43m    \u001b[49m\u001b[43mgrad_tensors_\u001b[49m\u001b[43m,\u001b[49m\n\u001b[1;32m    292\u001b[0m \u001b[43m    \u001b[49m\u001b[43mretain_graph\u001b[49m\u001b[43m,\u001b[49m\n\u001b[1;32m    293\u001b[0m \u001b[43m    \u001b[49m\u001b[43mcreate_graph\u001b[49m\u001b[43m,\u001b[49m\n\u001b[1;32m    294\u001b[0m \u001b[43m    \u001b[49m\u001b[43minputs\u001b[49m\u001b[43m,\u001b[49m\n\u001b[1;32m    295\u001b[0m \u001b[43m    \u001b[49m\u001b[43mallow_unreachable\u001b[49m\u001b[38;5;241;43m=\u001b[39;49m\u001b[38;5;28;43;01mTrue\u001b[39;49;00m\u001b[43m,\u001b[49m\n\u001b[1;32m    296\u001b[0m \u001b[43m    \u001b[49m\u001b[43maccumulate_grad\u001b[49m\u001b[38;5;241;43m=\u001b[39;49m\u001b[38;5;28;43;01mTrue\u001b[39;49;00m\u001b[43m,\u001b[49m\n\u001b[1;32m    297\u001b[0m \u001b[43m\u001b[49m\u001b[43m)\u001b[49m\n",
      "File \u001b[0;32m/Library/Frameworks/Python.framework/Versions/3.12/lib/python3.12/site-packages/torch/autograd/graph.py:768\u001b[0m, in \u001b[0;36m_engine_run_backward\u001b[0;34m(t_outputs, *args, **kwargs)\u001b[0m\n\u001b[1;32m    766\u001b[0m     unregister_hooks \u001b[38;5;241m=\u001b[39m _register_logging_hooks_on_whole_graph(t_outputs)\n\u001b[1;32m    767\u001b[0m \u001b[38;5;28;01mtry\u001b[39;00m:\n\u001b[0;32m--> 768\u001b[0m     \u001b[38;5;28;01mreturn\u001b[39;00m \u001b[43mVariable\u001b[49m\u001b[38;5;241;43m.\u001b[39;49m\u001b[43m_execution_engine\u001b[49m\u001b[38;5;241;43m.\u001b[39;49m\u001b[43mrun_backward\u001b[49m\u001b[43m(\u001b[49m\u001b[43m  \u001b[49m\u001b[38;5;66;43;03m# Calls into the C++ engine to run the backward pass\u001b[39;49;00m\n\u001b[1;32m    769\u001b[0m \u001b[43m        \u001b[49m\u001b[43mt_outputs\u001b[49m\u001b[43m,\u001b[49m\u001b[43m \u001b[49m\u001b[38;5;241;43m*\u001b[39;49m\u001b[43margs\u001b[49m\u001b[43m,\u001b[49m\u001b[43m \u001b[49m\u001b[38;5;241;43m*\u001b[39;49m\u001b[38;5;241;43m*\u001b[39;49m\u001b[43mkwargs\u001b[49m\n\u001b[1;32m    770\u001b[0m \u001b[43m    \u001b[49m\u001b[43m)\u001b[49m  \u001b[38;5;66;03m# Calls into the C++ engine to run the backward pass\u001b[39;00m\n\u001b[1;32m    771\u001b[0m \u001b[38;5;28;01mfinally\u001b[39;00m:\n\u001b[1;32m    772\u001b[0m     \u001b[38;5;28;01mif\u001b[39;00m attach_logging_hooks:\n",
      "\u001b[0;31mRuntimeError\u001b[0m: Trying to backward through the graph a second time (or directly access saved tensors after they have already been freed). Saved intermediate values of the graph are freed when you call .backward() or autograd.grad(). Specify retain_graph=True if you need to backward through the graph a second time or if you need to access saved tensors after calling backward."
     ]
    }
   ],
   "source": [
    "loss.backward()\n",
    "print(w.grad)         # w梯度值\n",
    "print(b.grad)         # b梯度值"
   ]
  },
  {
   "cell_type": "code",
   "execution_count": 8,
   "metadata": {},
   "outputs": [
    {
     "name": "stdout",
     "output_type": "stream",
     "text": [
      "tensor([1.])\n"
     ]
    }
   ],
   "source": [
    "# Variable 在 v0.4.0已被棄用，直接使用 tensor 即可\n",
    "from torch.autograd import Variable\n",
    "x = Variable(torch.ones(1), requires_grad=True)\n",
    "y = x + 1\n",
    "y.backward()\n",
    "print(x.grad)"
   ]
  },
  {
   "cell_type": "code",
   "execution_count": 9,
   "metadata": {},
   "outputs": [
    {
     "name": "stdout",
     "output_type": "stream",
     "text": [
      "tensor([1.])\n"
     ]
    }
   ],
   "source": [
    "# 替代 Variable\n",
    "x2 = torch.ones(1, requires_grad=True)\n",
    "y = x2 + 1\n",
    "y.backward()\n",
    "print(x2.grad)"
   ]
  },
  {
   "cell_type": "markdown",
   "metadata": {},
   "source": [
    "## 多次梯度下降"
   ]
  },
  {
   "cell_type": "code",
   "execution_count": 10,
   "metadata": {},
   "outputs": [
    {
     "name": "stdout",
     "output_type": "stream",
     "text": [
      "一次梯度下降=75.0\n",
      "二次梯度下降=150.0\n",
      "三次梯度下降=225.0\n"
     ]
    }
   ],
   "source": [
    "x = torch.tensor(5.0, requires_grad=True)\n",
    "y = x ** 3            # y = x^3\n",
    "\n",
    "y.backward(retain_graph=True) # 梯度下降\n",
    "print(f'一次梯度下降={x.grad}') \n",
    "\n",
    "y.backward(retain_graph=True) # 梯度下降\n",
    "print(f'二次梯度下降={x.grad}') \n",
    "\n",
    "y.backward() # 梯度下降\n",
    "print(f'三次梯度下降={x.grad}') "
   ]
  },
  {
   "cell_type": "markdown",
   "metadata": {},
   "source": [
    "## 梯度 reset"
   ]
  },
  {
   "cell_type": "code",
   "execution_count": 11,
   "metadata": {},
   "outputs": [
    {
     "name": "stdout",
     "output_type": "stream",
     "text": [
      "一次梯度下降=75.0\n",
      "二次梯度下降=75.0\n",
      "三次梯度下降=75.0\n"
     ]
    }
   ],
   "source": [
    "x = torch.tensor(5.0, requires_grad=True)\n",
    "y = x ** 3            # y = x^3\n",
    "\n",
    "y.backward(retain_graph=True) # 梯度下降\n",
    "print(f'一次梯度下降={x.grad}') \n",
    "x.grad.zero_()                # 梯度 reset\n",
    "\n",
    "y.backward(retain_graph=True) # 梯度下降\n",
    "print(f'二次梯度下降={x.grad}') \n",
    "x.grad.zero_()                # 梯度 reset\n",
    "\n",
    "y.backward() # 梯度下降\n",
    "print(f'三次梯度下降={x.grad}') "
   ]
  },
  {
   "cell_type": "markdown",
   "metadata": {},
   "source": [
    "## 多個變數梯度下降"
   ]
  },
  {
   "cell_type": "code",
   "execution_count": 12,
   "metadata": {},
   "outputs": [
    {
     "name": "stdout",
     "output_type": "stream",
     "text": [
      "x 梯度下降 = 18750.0\n"
     ]
    }
   ],
   "source": [
    "x = torch.tensor(5.0, requires_grad=True)\n",
    "y = x ** 3            # y = x^3\n",
    "z = y ** 2            # z = y^2\n",
    "\n",
    "z.backward() # 梯度下降\n",
    "print(f'x 梯度下降 = {x.grad}') # 6 * x^5"
   ]
  },
  {
   "cell_type": "markdown",
   "metadata": {},
   "source": [
    "## 梯度下降法(Gradient Descent)"
   ]
  },
  {
   "cell_type": "code",
   "execution_count": 18,
   "metadata": {},
   "outputs": [
    {
     "name": "stderr",
     "output_type": "stream",
     "text": [
      "findfont: Generic family 'sans-serif' not found because none of the following families were found: Microsoft JhengHei\n"
     ]
    },
    {
     "name": "stderr",
     "output_type": "stream",
     "text": [
      "findfont: Generic family 'sans-serif' not found because none of the following families were found: Microsoft JhengHei\n",
      "findfont: Generic family 'sans-serif' not found because none of the following families were found: Microsoft JhengHei\n",
      "findfont: Generic family 'sans-serif' not found because none of the following families were found: Microsoft JhengHei\n",
      "findfont: Generic family 'sans-serif' not found because none of the following families were found: Microsoft JhengHei\n",
      "findfont: Generic family 'sans-serif' not found because none of the following families were found: Microsoft JhengHei\n",
      "findfont: Generic family 'sans-serif' not found because none of the following families were found: Microsoft JhengHei\n",
      "findfont: Generic family 'sans-serif' not found because none of the following families were found: Microsoft JhengHei\n",
      "findfont: Generic family 'sans-serif' not found because none of the following families were found: Microsoft JhengHei\n",
      "findfont: Generic family 'sans-serif' not found because none of the following families were found: Microsoft JhengHei\n",
      "findfont: Generic family 'sans-serif' not found because none of the following families were found: Microsoft JhengHei\n",
      "findfont: Generic family 'sans-serif' not found because none of the following families were found: Microsoft JhengHei\n",
      "findfont: Generic family 'sans-serif' not found because none of the following families were found: Microsoft JhengHei\n",
      "findfont: Generic family 'sans-serif' not found because none of the following families were found: Microsoft JhengHei\n",
      "findfont: Generic family 'sans-serif' not found because none of the following families were found: Microsoft JhengHei\n",
      "findfont: Generic family 'sans-serif' not found because none of the following families were found: Microsoft JhengHei\n",
      "findfont: Generic family 'sans-serif' not found because none of the following families were found: Microsoft JhengHei\n",
      "findfont: Generic family 'sans-serif' not found because none of the following families were found: Microsoft JhengHei\n",
      "findfont: Generic family 'sans-serif' not found because none of the following families were found: Microsoft JhengHei\n",
      "findfont: Generic family 'sans-serif' not found because none of the following families were found: Microsoft JhengHei\n",
      "findfont: Generic family 'sans-serif' not found because none of the following families were found: Microsoft JhengHei\n",
      "findfont: Generic family 'sans-serif' not found because none of the following families were found: Microsoft JhengHei\n",
      "findfont: Generic family 'sans-serif' not found because none of the following families were found: Microsoft JhengHei\n",
      "findfont: Generic family 'sans-serif' not found because none of the following families were found: Microsoft JhengHei\n",
      "findfont: Generic family 'sans-serif' not found because none of the following families were found: Microsoft JhengHei\n",
      "findfont: Generic family 'sans-serif' not found because none of the following families were found: Microsoft JhengHei\n",
      "findfont: Generic family 'sans-serif' not found because none of the following families were found: Microsoft JhengHei\n",
      "findfont: Generic family 'sans-serif' not found because none of the following families were found: Microsoft JhengHei\n",
      "findfont: Generic family 'sans-serif' not found because none of the following families were found: Microsoft JhengHei\n",
      "findfont: Generic family 'sans-serif' not found because none of the following families were found: Microsoft JhengHei\n",
      "findfont: Generic family 'sans-serif' not found because none of the following families were found: Microsoft JhengHei\n",
      "findfont: Generic family 'sans-serif' not found because none of the following families were found: Microsoft JhengHei\n",
      "findfont: Generic family 'sans-serif' not found because none of the following families were found: Microsoft JhengHei\n",
      "findfont: Generic family 'sans-serif' not found because none of the following families were found: Microsoft JhengHei\n",
      "findfont: Generic family 'sans-serif' not found because none of the following families were found: Microsoft JhengHei\n",
      "findfont: Generic family 'sans-serif' not found because none of the following families were found: Microsoft JhengHei\n",
      "findfont: Generic family 'sans-serif' not found because none of the following families were found: Microsoft JhengHei\n",
      "findfont: Generic family 'sans-serif' not found because none of the following families were found: Microsoft JhengHei\n",
      "findfont: Generic family 'sans-serif' not found because none of the following families were found: Microsoft JhengHei\n",
      "findfont: Generic family 'sans-serif' not found because none of the following families were found: Microsoft JhengHei\n",
      "findfont: Generic family 'sans-serif' not found because none of the following families were found: Microsoft JhengHei\n",
      "findfont: Generic family 'sans-serif' not found because none of the following families were found: Microsoft JhengHei\n",
      "findfont: Generic family 'sans-serif' not found because none of the following families were found: Microsoft JhengHei\n",
      "findfont: Generic family 'sans-serif' not found because none of the following families were found: Microsoft JhengHei\n",
      "findfont: Generic family 'sans-serif' not found because none of the following families were found: Microsoft JhengHei\n",
      "findfont: Generic family 'sans-serif' not found because none of the following families were found: Microsoft JhengHei\n",
      "findfont: Generic family 'sans-serif' not found because none of the following families were found: Microsoft JhengHei\n",
      "findfont: Generic family 'sans-serif' not found because none of the following families were found: Microsoft JhengHei\n",
      "findfont: Generic family 'sans-serif' not found because none of the following families were found: Microsoft JhengHei\n",
      "findfont: Generic family 'sans-serif' not found because none of the following families were found: Microsoft JhengHei\n",
      "findfont: Generic family 'sans-serif' not found because none of the following families were found: Microsoft JhengHei\n",
      "findfont: Generic family 'sans-serif' not found because none of the following families were found: Microsoft JhengHei\n",
      "findfont: Generic family 'sans-serif' not found because none of the following families were found: Microsoft JhengHei\n",
      "findfont: Generic family 'sans-serif' not found because none of the following families were found: Microsoft JhengHei\n",
      "findfont: Generic family 'sans-serif' not found because none of the following families were found: Microsoft JhengHei\n",
      "findfont: Generic family 'sans-serif' not found because none of the following families were found: Microsoft JhengHei\n"
     ]
    },
    {
     "name": "stdout",
     "output_type": "stream",
     "text": [
      "[5.   2.   0.8  0.32 0.13 0.05 0.02 0.01 0.   0.   0.   0.   0.   0.\n",
      " 0.   0.  ]\n"
     ]
    },
    {
     "data": {
      "image/png": "[encoded data removed]",
      "text/plain": [
       "<Figure size 640x480 with 1 Axes>"
      ]
     },
     "metadata": {},
     "output_type": "display_data"
    }
   ],
   "source": [
    "# 載入套件\n",
    "import numpy as np\n",
    "import matplotlib.pyplot as plt\n",
    "\n",
    "# 目標函數(損失函數):y=x^2\n",
    "def func(x): return x ** 2\n",
    "\n",
    "# 目標函數的一階導數:dy/dx=2*x\n",
    "def dfunc(x): return 2 * x\n",
    "\n",
    "# 超參數(Hyperparameters)\n",
    "x_start = 5     # 起始權重\n",
    "epochs = 15     # 執行週期數 \n",
    "lr = 0.3        # 學習率 \n",
    "\n",
    "# 梯度下降法 \n",
    "def GD(x_start, df, epochs, lr):    \n",
    "    xs = np.zeros(epochs+1)    \n",
    "    x = x_start    \n",
    "    xs[0] = x    \n",
    "    for i in range(epochs):         \n",
    "        dx = df(x)        \n",
    "        # 更新 x_new = x — learning_rate * gradient        \n",
    "        x += - dx * lr         \n",
    "        xs[i+1] = x    \n",
    "    return xs\n",
    "\n",
    "# *** Function 可以直接當參數傳遞 ***\n",
    "w = GD(x_start, dfunc, epochs, lr=lr) \n",
    "print (np.around(w, 2))\n",
    "\n",
    "t = np.arange(-6.0, 6.0, 0.01)\n",
    "plt.plot(t, func(t), c='b')\n",
    "plt.plot(w, func(w), c='r', marker ='o', markersize=5)    \n",
    "\n",
    "# 設定中文字型\n",
    "plt.rcParams['font.sans-serif'] = ['Microsoft JhengHei'] # 正黑體 \n",
    "plt.rcParams['axes.unicode_minus'] = False # 矯正負號\n",
    "\n",
    "plt.title('梯度下降法', fontsize=20)\n",
    "plt.xlabel('X', fontsize=20)\n",
    "plt.ylabel('損失函數', fontsize=20)\n",
    "plt.show()"
   ]
  },
  {
   "cell_type": "markdown",
   "metadata": {},
   "source": [
    "## 使用 PyTorch"
   ]
  },
  {
   "cell_type": "code",
   "execution_count": 14,
   "metadata": {
    "scrolled": true
   },
   "outputs": [
    {
     "name": "stderr",
     "output_type": "stream",
     "text": [
      "findfont: Generic family 'sans-serif' not found because none of the following families were found: Microsoft JhengHei\n",
      "findfont: Generic family 'sans-serif' not found because none of the following families were found: Microsoft JhengHei\n",
      "findfont: Generic family 'sans-serif' not found because none of the following families were found: Microsoft JhengHei\n",
      "findfont: Generic family 'sans-serif' not found because none of the following families were found: Microsoft JhengHei\n",
      "findfont: Generic family 'sans-serif' not found because none of the following families were found: Microsoft JhengHei\n",
      "findfont: Generic family 'sans-serif' not found because none of the following families were found: Microsoft JhengHei\n",
      "findfont: Generic family 'sans-serif' not found because none of the following families were found: Microsoft JhengHei\n",
      "findfont: Generic family 'sans-serif' not found because none of the following families were found: Microsoft JhengHei\n",
      "findfont: Generic family 'sans-serif' not found because none of the following families were found: Microsoft JhengHei\n",
      "findfont: Generic family 'sans-serif' not found because none of the following families were found: Microsoft JhengHei\n",
      "findfont: Generic family 'sans-serif' not found because none of the following families were found: Microsoft JhengHei\n",
      "findfont: Generic family 'sans-serif' not found because none of the following families were found: Microsoft JhengHei\n",
      "findfont: Generic family 'sans-serif' not found because none of the following families were found: Microsoft JhengHei\n",
      "findfont: Generic family 'sans-serif' not found because none of the following families were found: Microsoft JhengHei\n",
      "findfont: Generic family 'sans-serif' not found because none of the following families were found: Microsoft JhengHei\n",
      "findfont: Generic family 'sans-serif' not found because none of the following families were found: Microsoft JhengHei\n",
      "findfont: Generic family 'sans-serif' not found because none of the following families were found: Microsoft JhengHei\n",
      "findfont: Generic family 'sans-serif' not found because none of the following families were found: Microsoft JhengHei\n",
      "findfont: Generic family 'sans-serif' not found because none of the following families were found: Microsoft JhengHei\n",
      "findfont: Generic family 'sans-serif' not found because none of the following families were found: Microsoft JhengHei\n",
      "findfont: Generic family 'sans-serif' not found because none of the following families were found: Microsoft JhengHei\n",
      "findfont: Generic family 'sans-serif' not found because none of the following families were found: Microsoft JhengHei\n",
      "findfont: Generic family 'sans-serif' not found because none of the following families were found: Microsoft JhengHei\n",
      "findfont: Generic family 'sans-serif' not found because none of the following families were found: Microsoft JhengHei\n",
      "findfont: Generic family 'sans-serif' not found because none of the following families were found: Microsoft JhengHei\n",
      "findfont: Generic family 'sans-serif' not found because none of the following families were found: Microsoft JhengHei\n",
      "findfont: Generic family 'sans-serif' not found because none of the following families were found: Microsoft JhengHei\n",
      "findfont: Generic family 'sans-serif' not found because none of the following families were found: Microsoft JhengHei\n",
      "findfont: Generic family 'sans-serif' not found because none of the following families were found: Microsoft JhengHei\n",
      "findfont: Generic family 'sans-serif' not found because none of the following families were found: Microsoft JhengHei\n",
      "findfont: Generic family 'sans-serif' not found because none of the following families were found: Microsoft JhengHei\n",
      "findfont: Generic family 'sans-serif' not found because none of the following families were found: Microsoft JhengHei\n",
      "findfont: Generic family 'sans-serif' not found because none of the following families were found: Microsoft JhengHei\n",
      "findfont: Generic family 'sans-serif' not found because none of the following families were found: Microsoft JhengHei\n",
      "findfont: Generic family 'sans-serif' not found because none of the following families were found: Microsoft JhengHei\n",
      "findfont: Generic family 'sans-serif' not found because none of the following families were found: Microsoft JhengHei\n",
      "findfont: Generic family 'sans-serif' not found because none of the following families were found: Microsoft JhengHei\n",
      "findfont: Generic family 'sans-serif' not found because none of the following families were found: Microsoft JhengHei\n",
      "findfont: Generic family 'sans-serif' not found because none of the following families were found: Microsoft JhengHei\n",
      "findfont: Generic family 'sans-serif' not found because none of the following families were found: Microsoft JhengHei\n",
      "findfont: Generic family 'sans-serif' not found because none of the following families were found: Microsoft JhengHei\n",
      "findfont: Generic family 'sans-serif' not found because none of the following families were found: Microsoft JhengHei\n",
      "findfont: Generic family 'sans-serif' not found because none of the following families were found: Microsoft JhengHei\n",
      "findfont: Generic family 'sans-serif' not found because none of the following families were found: Microsoft JhengHei\n",
      "findfont: Generic family 'sans-serif' not found because none of the following families were found: Microsoft JhengHei\n",
      "findfont: Generic family 'sans-serif' not found because none of the following families were found: Microsoft JhengHei\n",
      "findfont: Generic family 'sans-serif' not found because none of the following families were found: Microsoft JhengHei\n",
      "findfont: Generic family 'sans-serif' not found because none of the following families were found: Microsoft JhengHei\n",
      "findfont: Generic family 'sans-serif' not found because none of the following families were found: Microsoft JhengHei\n",
      "findfont: Generic family 'sans-serif' not found because none of the following families were found: Microsoft JhengHei\n",
      "findfont: Generic family 'sans-serif' not found because none of the following families were found: Microsoft JhengHei\n",
      "findfont: Generic family 'sans-serif' not found because none of the following families were found: Microsoft JhengHei\n",
      "findfont: Generic family 'sans-serif' not found because none of the following families were found: Microsoft JhengHei\n",
      "findfont: Generic family 'sans-serif' not found because none of the following families were found: Microsoft JhengHei\n",
      "findfont: Generic family 'sans-serif' not found because none of the following families were found: Microsoft JhengHei\n",
      "findfont: Generic family 'sans-serif' not found because none of the following families were found: Microsoft JhengHei\n"
     ]
    },
    {
     "name": "stdout",
     "output_type": "stream",
     "text": [
      "[5.   2.   0.8  0.32 0.13 0.05 0.02 0.01 0.   0.   0.   0.   0.   0.\n",
      " 0.   0.  ]\n"
     ]
    },
    {
     "data": {
      "image/png": "[encoded data removed]",
      "text/plain": [
       "<Figure size 640x480 with 1 Axes>"
      ]
     },
     "metadata": {},
     "output_type": "display_data"
    }
   ],
   "source": [
    "# 載入套件\n",
    "import torch\n",
    "import numpy as np\n",
    "import matplotlib.pyplot as plt\n",
    "\n",
    "# 目標函數(損失函數):y=x^2\n",
    "def func(x): return x ** 2\n",
    "\n",
    "# 自動微分\n",
    "def dfunc(x): \n",
    "    x = torch.tensor(float(x), requires_grad=True)\n",
    "    y = x ** 2 # 目標函數(損失函數)\n",
    "    y.backward()\n",
    "    return x.grad\n",
    "\n",
    "# 超參數(Hyperparameters)\n",
    "x_start = 5     # 起始權重\n",
    "epochs = 15     # 執行週期數 \n",
    "lr = 0.3        # 學習率 \n",
    "\n",
    "# 梯度下降法 \n",
    "def GD(x_start, df, epochs, lr):    \n",
    "    xs = np.zeros(epochs+1)    \n",
    "    x = x_start    \n",
    "    xs[0] = x    \n",
    "    for i in range(epochs):         \n",
    "        dx = df(x)        \n",
    "        # x更新 x_new = x — learning_rate * gradient        \n",
    "        x += - dx * lr         \n",
    "        xs[i+1] = x    \n",
    "    return xs\n",
    "\n",
    "# *** Function 可以直接當參數傳遞 ***\n",
    "w = GD(x_start, dfunc, epochs, lr=lr) \n",
    "print (np.around(w, 2))\n",
    "\n",
    "t = np.arange(-6.0, 6.0, 0.01)\n",
    "plt.plot(t, func(t), c='b')\n",
    "plt.plot(w, func(w), c='r', marker ='o', markersize=5)    \n",
    "\n",
    "# 設定中文字型\n",
    "plt.rcParams['font.sans-serif'] = ['Microsoft JhengHei'] # 正黑體 \n",
    "plt.rcParams['axes.unicode_minus'] = False # 矯正負號\n",
    "\n",
    "plt.title('梯度下降法', fontsize=20)\n",
    "plt.xlabel('X', fontsize=20)\n",
    "plt.ylabel('損失函數', fontsize=20)\n",
    "plt.show()"
   ]
  },
  {
   "cell_type": "markdown",
   "metadata": {},
   "source": [
    "## 使用 TensorFlow"
   ]
  },
  {
   "cell_type": "code",
   "execution_count": 15,
   "metadata": {
    "scrolled": true
   },
   "outputs": [
    {
     "name": "stderr",
     "output_type": "stream",
     "text": [
      "findfont: Generic family 'sans-serif' not found because none of the following families were found: Microsoft JhengHei\n",
      "findfont: Generic family 'sans-serif' not found because none of the following families were found: Microsoft JhengHei\n",
      "findfont: Generic family 'sans-serif' not found because none of the following families were found: Microsoft JhengHei\n",
      "findfont: Generic family 'sans-serif' not found because none of the following families were found: Microsoft JhengHei\n",
      "findfont: Generic family 'sans-serif' not found because none of the following families were found: Microsoft JhengHei\n",
      "findfont: Generic family 'sans-serif' not found because none of the following families were found: Microsoft JhengHei\n",
      "findfont: Generic family 'sans-serif' not found because none of the following families were found: Microsoft JhengHei\n",
      "findfont: Generic family 'sans-serif' not found because none of the following families were found: Microsoft JhengHei\n",
      "findfont: Generic family 'sans-serif' not found because none of the following families were found: Microsoft JhengHei\n",
      "findfont: Generic family 'sans-serif' not found because none of the following families were found: Microsoft JhengHei\n",
      "findfont: Generic family 'sans-serif' not found because none of the following families were found: Microsoft JhengHei\n",
      "/Users/mollytsai/Library/Python/3.12/lib/python/site-packages/IPython/core/pylabtools.py:170: UserWarning: Glyph 25613 (\\N{CJK UNIFIED IDEOGRAPH-640D}) missing from font(s) DejaVu Sans.\n",
      "  fig.canvas.print_figure(bytes_io, **kw)\n",
      "/Users/mollytsai/Library/Python/3.12/lib/python/site-packages/IPython/core/pylabtools.py:170: UserWarning: Glyph 22833 (\\N{CJK UNIFIED IDEOGRAPH-5931}) missing from font(s) DejaVu Sans.\n",
      "  fig.canvas.print_figure(bytes_io, **kw)\n",
      "/Users/mollytsai/Library/Python/3.12/lib/python/site-packages/IPython/core/pylabtools.py:170: UserWarning: Glyph 20989 (\\N{CJK UNIFIED IDEOGRAPH-51FD}) missing from font(s) DejaVu Sans.\n",
      "  fig.canvas.print_figure(bytes_io, **kw)\n",
      "/Users/mollytsai/Library/Python/3.12/lib/python/site-packages/IPython/core/pylabtools.py:170: UserWarning: Glyph 25976 (\\N{CJK UNIFIED IDEOGRAPH-6578}) missing from font(s) DejaVu Sans.\n",
      "  fig.canvas.print_figure(bytes_io, **kw)\n",
      "findfont: Generic family 'sans-serif' not found because none of the following families were found: Microsoft JhengHei\n",
      "/Users/mollytsai/Library/Python/3.12/lib/python/site-packages/IPython/core/pylabtools.py:170: UserWarning: Glyph 26799 (\\N{CJK UNIFIED IDEOGRAPH-68AF}) missing from font(s) DejaVu Sans.\n",
      "  fig.canvas.print_figure(bytes_io, **kw)\n",
      "/Users/mollytsai/Library/Python/3.12/lib/python/site-packages/IPython/core/pylabtools.py:170: UserWarning: Glyph 24230 (\\N{CJK UNIFIED IDEOGRAPH-5EA6}) missing from font(s) DejaVu Sans.\n",
      "  fig.canvas.print_figure(bytes_io, **kw)\n",
      "/Users/mollytsai/Library/Python/3.12/lib/python/site-packages/IPython/core/pylabtools.py:170: UserWarning: Glyph 19979 (\\N{CJK UNIFIED IDEOGRAPH-4E0B}) missing from font(s) DejaVu Sans.\n",
      "  fig.canvas.print_figure(bytes_io, **kw)\n",
      "/Users/mollytsai/Library/Python/3.12/lib/python/site-packages/IPython/core/pylabtools.py:170: UserWarning: Glyph 38477 (\\N{CJK UNIFIED IDEOGRAPH-964D}) missing from font(s) DejaVu Sans.\n",
      "  fig.canvas.print_figure(bytes_io, **kw)\n",
      "/Users/mollytsai/Library/Python/3.12/lib/python/site-packages/IPython/core/pylabtools.py:170: UserWarning: Glyph 27861 (\\N{CJK UNIFIED IDEOGRAPH-6CD5}) missing from font(s) DejaVu Sans.\n",
      "  fig.canvas.print_figure(bytes_io, **kw)\n",
      "findfont: Generic family 'sans-serif' not found because none of the following families were found: Microsoft JhengHei\n",
      "findfont: Generic family 'sans-serif' not found because none of the following families were found: Microsoft JhengHei\n",
      "findfont: Generic family 'sans-serif' not found because none of the following families were found: Microsoft JhengHei\n",
      "findfont: Generic family 'sans-serif' not found because none of the following families were found: Microsoft JhengHei\n",
      "findfont: Generic family 'sans-serif' not found because none of the following families were found: Microsoft JhengHei\n",
      "findfont: Generic family 'sans-serif' not found because none of the following families were found: Microsoft JhengHei\n",
      "findfont: Generic family 'sans-serif' not found because none of the following families were found: Microsoft JhengHei\n",
      "findfont: Generic family 'sans-serif' not found because none of the following families were found: Microsoft JhengHei\n",
      "findfont: Generic family 'sans-serif' not found because none of the following families were found: Microsoft JhengHei\n",
      "findfont: Generic family 'sans-serif' not found because none of the following families were found: Microsoft JhengHei\n",
      "findfont: Generic family 'sans-serif' not found because none of the following families were found: Microsoft JhengHei\n",
      "findfont: Generic family 'sans-serif' not found because none of the following families were found: Microsoft JhengHei\n",
      "findfont: Generic family 'sans-serif' not found because none of the following families were found: Microsoft JhengHei\n",
      "findfont: Generic family 'sans-serif' not found because none of the following families were found: Microsoft JhengHei\n",
      "findfont: Generic family 'sans-serif' not found because none of the following families were found: Microsoft JhengHei\n",
      "findfont: Generic family 'sans-serif' not found because none of the following families were found: Microsoft JhengHei\n",
      "findfont: Generic family 'sans-serif' not found because none of the following families were found: Microsoft JhengHei\n",
      "findfont: Generic family 'sans-serif' not found because none of the following families were found: Microsoft JhengHei\n",
      "findfont: Generic family 'sans-serif' not found because none of the following families were found: Microsoft JhengHei\n",
      "findfont: Generic family 'sans-serif' not found because none of the following families were found: Microsoft JhengHei\n",
      "findfont: Generic family 'sans-serif' not found because none of the following families were found: Microsoft JhengHei\n",
      "findfont: Generic family 'sans-serif' not found because none of the following families were found: Microsoft JhengHei\n",
      "findfont: Generic family 'sans-serif' not found because none of the following families were found: Microsoft JhengHei\n",
      "findfont: Generic family 'sans-serif' not found because none of the following families were found: Microsoft JhengHei\n",
      "findfont: Generic family 'sans-serif' not found because none of the following families were found: Microsoft JhengHei\n",
      "findfont: Generic family 'sans-serif' not found because none of the following families were found: Microsoft JhengHei\n",
      "findfont: Generic family 'sans-serif' not found because none of the following families were found: Microsoft JhengHei\n",
      "findfont: Generic family 'sans-serif' not found because none of the following families were found: Microsoft JhengHei\n",
      "findfont: Generic family 'sans-serif' not found because none of the following families were found: Microsoft JhengHei\n",
      "findfont: Generic family 'sans-serif' not found because none of the following families were found: Microsoft JhengHei\n",
      "findfont: Generic family 'sans-serif' not found because none of the following families were found: Microsoft JhengHei\n",
      "findfont: Generic family 'sans-serif' not found because none of the following families were found: Microsoft JhengHei\n",
      "findfont: Generic family 'sans-serif' not found because none of the following families were found: Microsoft JhengHei\n",
      "findfont: Generic family 'sans-serif' not found because none of the following families were found: Microsoft JhengHei\n",
      "findfont: Generic family 'sans-serif' not found because none of the following families were found: Microsoft JhengHei\n",
      "findfont: Generic family 'sans-serif' not found because none of the following families were found: Microsoft JhengHei\n",
      "findfont: Generic family 'sans-serif' not found because none of the following families were found: Microsoft JhengHei\n",
      "findfont: Generic family 'sans-serif' not found because none of the following families were found: Microsoft JhengHei\n",
      "findfont: Generic family 'sans-serif' not found because none of the following families were found: Microsoft JhengHei\n",
      "findfont: Generic family 'sans-serif' not found because none of the following families were found: Microsoft JhengHei\n",
      "findfont: Generic family 'sans-serif' not found because none of the following families were found: Microsoft JhengHei\n",
      "findfont: Generic family 'sans-serif' not found because none of the following families were found: Microsoft JhengHei\n",
      "findfont: Generic family 'sans-serif' not found because none of the following families were found: Microsoft JhengHei\n",
      "findfont: Generic family 'sans-serif' not found because none of the following families were found: Microsoft JhengHei\n"
     ]
    },
    {
     "name": "stdout",
     "output_type": "stream",
     "text": [
      "[5.   2.   0.8  0.32 0.13 0.05 0.02 0.01 0.   0.   0.   0.   0.   0.\n",
      " 0.   0.  ]\n"
     ]
    },
    {
     "data": {
      "image/png": "[encoded data removed]",
      "text/plain": [
       "<Figure size 640x480 with 1 Axes>"
      ]
     },
     "metadata": {},
     "output_type": "display_data"
    }
   ],
   "source": [
    "# 載入套件\n",
    "import tensorflow as tf\n",
    "import numpy as np\n",
    "import matplotlib.pyplot as plt\n",
    "\n",
    "# 目標函數(損失函數):y=x^2\n",
    "def func(x): return x ** 2\n",
    "\n",
    "# 自動微分\n",
    "def dfunc(x_value): \n",
    "    x = tf.Variable(x_value, dtype=tf.float32) # 宣告 TensorFlow 變數(Variable)\n",
    "    with tf.GradientTape() as g: # 自動微分\n",
    "        y = x ** 2                # y = x^2\n",
    "    dy_dx = g.gradient(y, x)     # 取得梯度\n",
    "    return dy_dx.numpy()         # 轉成 NumPy array\n",
    "\n",
    "# 超參數(Hyperparameters)\n",
    "x_start = 5     # 起始權重\n",
    "epochs = 15     # 執行週期數 \n",
    "lr = 0.3        # 學習率 \n",
    "\n",
    "# 梯度下降法 \n",
    "def GD(x_start, df, epochs, lr):    \n",
    "    xs = np.zeros(epochs+1)    \n",
    "    x = x_start    \n",
    "    xs[0] = x    \n",
    "    for i in range(epochs):         \n",
    "        dx = df(x)        \n",
    "        # x更新 x_new = x — learning_rate * gradient        \n",
    "        x += - dx * lr         \n",
    "        xs[i+1] = x    \n",
    "    return xs\n",
    "\n",
    "# *** Function 可以直接當參數傳遞 ***\n",
    "w = GD(x_start, dfunc, epochs, lr=lr) \n",
    "print (np.around(w, 2))\n",
    "\n",
    "t = np.arange(-6.0, 6.0, 0.01)\n",
    "plt.plot(t, func(t), c='b')\n",
    "plt.plot(w, func(w), c='r', marker ='o', markersize=5)    \n",
    "\n",
    "# 設定中文字型\n",
    "plt.rcParams['font.sans-serif'] = ['Microsoft JhengHei'] # 正黑體 \n",
    "plt.rcParams['axes.unicode_minus'] = False # 矯正負號\n",
    "\n",
    "plt.title('梯度下降法', fontsize=20)\n",
    "plt.xlabel('X', fontsize=20)\n",
    "plt.ylabel('損失函數', fontsize=20)\n",
    "plt.show()"
   ]
  },
  {
   "cell_type": "code",
   "execution_count": 16,
   "metadata": {},
   "outputs": [
    {
     "name": "stderr",
     "output_type": "stream",
     "text": [
      "findfont: Generic family 'sans-serif' not found because none of the following families were found: Microsoft JhengHei\n",
      "findfont: Generic family 'sans-serif' not found because none of the following families were found: Microsoft JhengHei\n",
      "findfont: Generic family 'sans-serif' not found because none of the following families were found: Microsoft JhengHei\n",
      "findfont: Generic family 'sans-serif' not found because none of the following families were found: Microsoft JhengHei\n",
      "findfont: Generic family 'sans-serif' not found because none of the following families were found: Microsoft JhengHei\n",
      "findfont: Generic family 'sans-serif' not found because none of the following families were found: Microsoft JhengHei\n",
      "findfont: Generic family 'sans-serif' not found because none of the following families were found: Microsoft JhengHei\n",
      "findfont: Generic family 'sans-serif' not found because none of the following families were found: Microsoft JhengHei\n",
      "findfont: Generic family 'sans-serif' not found because none of the following families were found: Microsoft JhengHei\n",
      "findfont: Generic family 'sans-serif' not found because none of the following families were found: Microsoft JhengHei\n",
      "findfont: Generic family 'sans-serif' not found because none of the following families were found: Microsoft JhengHei\n",
      "findfont: Generic family 'sans-serif' not found because none of the following families were found: Microsoft JhengHei\n",
      "findfont: Generic family 'sans-serif' not found because none of the following families were found: Microsoft JhengHei\n",
      "findfont: Generic family 'sans-serif' not found because none of the following families were found: Microsoft JhengHei\n",
      "findfont: Generic family 'sans-serif' not found because none of the following families were found: Microsoft JhengHei\n",
      "findfont: Generic family 'sans-serif' not found because none of the following families were found: Microsoft JhengHei\n",
      "findfont: Generic family 'sans-serif' not found because none of the following families were found: Microsoft JhengHei\n",
      "findfont: Generic family 'sans-serif' not found because none of the following families were found: Microsoft JhengHei\n",
      "findfont: Generic family 'sans-serif' not found because none of the following families were found: Microsoft JhengHei\n",
      "findfont: Generic family 'sans-serif' not found because none of the following families were found: Microsoft JhengHei\n",
      "findfont: Generic family 'sans-serif' not found because none of the following families were found: Microsoft JhengHei\n",
      "findfont: Generic family 'sans-serif' not found because none of the following families were found: Microsoft JhengHei\n",
      "findfont: Generic family 'sans-serif' not found because none of the following families were found: Microsoft JhengHei\n",
      "findfont: Generic family 'sans-serif' not found because none of the following families were found: Microsoft JhengHei\n",
      "findfont: Generic family 'sans-serif' not found because none of the following families were found: Microsoft JhengHei\n",
      "findfont: Generic family 'sans-serif' not found because none of the following families were found: Microsoft JhengHei\n",
      "findfont: Generic family 'sans-serif' not found because none of the following families were found: Microsoft JhengHei\n",
      "findfont: Generic family 'sans-serif' not found because none of the following families were found: Microsoft JhengHei\n",
      "findfont: Generic family 'sans-serif' not found because none of the following families were found: Microsoft JhengHei\n",
      "findfont: Generic family 'sans-serif' not found because none of the following families were found: Microsoft JhengHei\n",
      "findfont: Generic family 'sans-serif' not found because none of the following families were found: Microsoft JhengHei\n",
      "findfont: Generic family 'sans-serif' not found because none of the following families were found: Microsoft JhengHei\n",
      "findfont: Generic family 'sans-serif' not found because none of the following families were found: Microsoft JhengHei\n",
      "findfont: Generic family 'sans-serif' not found because none of the following families were found: Microsoft JhengHei\n",
      "findfont: Generic family 'sans-serif' not found because none of the following families were found: Microsoft JhengHei\n",
      "findfont: Generic family 'sans-serif' not found because none of the following families were found: Microsoft JhengHei\n",
      "findfont: Generic family 'sans-serif' not found because none of the following families were found: Microsoft JhengHei\n",
      "findfont: Generic family 'sans-serif' not found because none of the following families were found: Microsoft JhengHei\n",
      "findfont: Generic family 'sans-serif' not found because none of the following families were found: Microsoft JhengHei\n",
      "findfont: Generic family 'sans-serif' not found because none of the following families were found: Microsoft JhengHei\n",
      "findfont: Generic family 'sans-serif' not found because none of the following families were found: Microsoft JhengHei\n",
      "findfont: Generic family 'sans-serif' not found because none of the following families were found: Microsoft JhengHei\n",
      "findfont: Generic family 'sans-serif' not found because none of the following families were found: Microsoft JhengHei\n",
      "findfont: Generic family 'sans-serif' not found because none of the following families were found: Microsoft JhengHei\n",
      "findfont: Generic family 'sans-serif' not found because none of the following families were found: Microsoft JhengHei\n",
      "findfont: Generic family 'sans-serif' not found because none of the following families were found: Microsoft JhengHei\n",
      "findfont: Generic family 'sans-serif' not found because none of the following families were found: Microsoft JhengHei\n",
      "findfont: Generic family 'sans-serif' not found because none of the following families were found: Microsoft JhengHei\n",
      "findfont: Generic family 'sans-serif' not found because none of the following families were found: Microsoft JhengHei\n",
      "findfont: Generic family 'sans-serif' not found because none of the following families were found: Microsoft JhengHei\n"
     ]
    },
    {
     "name": "stdout",
     "output_type": "stream",
     "text": [
      "[5.   4.03 3.53 ... 0.51 0.51 0.51]\n"
     ]
    },
    {
     "data": {
      "image/png": "[encoded data removed]",
      "text/plain": [
       "<Figure size 640x480 with 1 Axes>"
      ]
     },
     "metadata": {},
     "output_type": "display_data"
    }
   ],
   "source": [
    "# 損失函數\n",
    "def func(x): return 2*x**4-3*x**2+2*x-20\n",
    "\n",
    "# 自動微分\n",
    "def dfunc(x): \n",
    "    x = torch.tensor(float(x), requires_grad=True)\n",
    "    y = 2*x**4-3*x**2+2*x-20\n",
    "    y.backward()\n",
    "    return x.grad\n",
    "\n",
    "# 超參數(Hyperparameters)\n",
    "x_start = 5     # 起始權重\n",
    "epochs = 15000  # 執行週期數 \n",
    "lr = 0.001      # 學習率 \n",
    "\n",
    "# *** Function 可以直接當參數傳遞 ***\n",
    "w = GD(x_start, dfunc, epochs, lr=lr) \n",
    "print (np.around(w, 2))\n",
    "\n",
    "t = np.arange(-6.0, 6.0, 0.01)\n",
    "plt.plot(t, func(t), c='b')\n",
    "plt.plot(w, func(w), c='r', marker ='o', markersize=5)    \n",
    "\n",
    "# 設定中文字型\n",
    "plt.rcParams['font.sans-serif'] = ['Microsoft JhengHei'] # 正黑體 \n",
    "plt.rcParams['axes.unicode_minus'] = False # 矯正負號\n",
    "\n",
    "plt.title('梯度下降法', fontsize=20)\n",
    "plt.xlabel('X', fontsize=20)\n",
    "plt.ylabel('損失函數', fontsize=20)\n",
    "plt.show()"
   ]
  },
  {
   "cell_type": "code",
   "execution_count": 20,
   "metadata": {},
   "outputs": [
    {
     "name": "stdout",
     "output_type": "stream",
     "text": [
      "tensor(5., requires_grad=True)\n",
      "tensor(50.)\n"
     ]
    }
   ],
   "source": [
    "def dfunc(x): \n",
    "    x = torch.tensor(float(x), requires_grad=True)\n",
    "    y = x ** 2 # 目標函數(損失函數)\n",
    "    y.backward()\n",
    "    return x.grad\n",
    "print(x)\n",
    "print(dfunc(x**2))"
   ]
  }
 ],
 "metadata": {
  "kernelspec": {
   "display_name": "Python 3 (ipykernel)",
   "language": "python",
   "name": "python3"
  },
  "language_info": {
   "codemirror_mode": {
    "name": "ipython",
    "version": 3
   },
   "file_extension": ".py",
   "mimetype": "text/x-python",
   "name": "python",
   "nbconvert_exporter": "python",
   "pygments_lexer": "ipython3",
   "version": "3.12.4"
  }
 },
 "nbformat": 4,
 "nbformat_minor": 4
}
