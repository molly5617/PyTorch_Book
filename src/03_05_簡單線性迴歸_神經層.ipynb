{
 "cells": [
  {
   "cell_type": "markdown",
   "metadata": {},
   "source": [
    "# 使用完全連接層估算簡單線性迴歸的參數w、b"
   ]
  },
  {
   "cell_type": "code",
   "execution_count": 32,
   "metadata": {},
   "outputs": [],
   "source": [
    "# 載入套件\n",
    "import numpy as np \n",
    "import torch"
   ]
  },
  {
   "cell_type": "markdown",
   "metadata": {},
   "source": [
    "## 產生隨機資料"
   ]
  },
  {
   "cell_type": "code",
   "execution_count": 33,
   "metadata": {},
   "outputs": [],
   "source": [
    "# 產生線性隨機資料100筆，介於 0-50\n",
    "n = 100\n",
    "X = np.linspace(0, 50, n) \n",
    "y = np.linspace(0, 50, n) \n",
    "  \n",
    "# 資料加一點雜訊(noise)\n",
    "X += np.random.uniform(-10, 10, n) \n",
    "y += np.random.uniform(-10, 10, n) "
   ]
  },
  {
   "cell_type": "markdown",
   "metadata": {},
   "source": [
    "## 定義模型"
   ]
  },
  {
   "cell_type": "code",
   "execution_count": 34,
   "metadata": {},
   "outputs": [],
   "source": [
    "# 定義模型\n",
    "def create_model(input_feature, output_feature):\n",
    "    model = torch.nn.Sequential(\n",
    "        torch.nn.Linear(input_feature, output_feature),\n",
    "        torch.nn.Flatten(0, -1) # 所有維度轉成一維 \n",
    "    )\n",
    "    return model"
   ]
  },
  {
   "cell_type": "code",
   "execution_count": 35,
   "metadata": {},
   "outputs": [
    {
     "data": {
      "text/plain": [
       "torch.Size([32, 288])"
      ]
     },
     "execution_count": 35,
     "metadata": {},
     "output_type": "execute_result"
    }
   ],
   "source": [
    "# 測試扁平層(Flatten)\n",
    "input = torch.randn(32, 1, 5, 5)\n",
    "m = torch.nn.Sequential(\n",
    "    torch.nn.Conv2d(1, 32, 5, 1, 1),\n",
    "    torch.nn.Flatten()\n",
    ")\n",
    "output = m(input)\n",
    "output.size()"
   ]
  },
  {
   "cell_type": "code",
   "execution_count": null,
   "metadata": {},
   "outputs": [],
   "source": []
  },
  {
   "cell_type": "markdown",
   "metadata": {},
   "source": [
    "## 定義訓練函數"
   ]
  },
  {
   "cell_type": "code",
   "execution_count": 36,
   "metadata": {},
   "outputs": [],
   "source": [
    "def train(X, y, epochs=2000, lr=1e-6):\n",
    "    model = create_model(1, 1)\n",
    "\n",
    "    # 定義損失函數\n",
    "    loss_fn = torch.nn.MSELoss(reduction='sum') \n",
    "\n",
    "    loss_list, w_list, b_list=[], [], []    \n",
    "    for epoch in range(epochs):   # 執行訓練週期\n",
    "        y_pred = model(X)        # 預測值\n",
    "        \n",
    "        # 計算損失函數值\n",
    "        # print(y_pred.shape, y.shape)\n",
    "        MSE = loss_fn(y_pred, y) \n",
    "        \n",
    "        # 梯度重置：改由model.zero_grad() 取代 w、b 逐一設定。\n",
    "        model.zero_grad()\n",
    "        \n",
    "        # 反向傳導\n",
    "        MSE.backward()  \n",
    "        \n",
    "        # 權重更新：改用 model.parameters 取代 w、b 逐一更新 \n",
    "        with torch.no_grad():\n",
    "            for param in model.parameters():\n",
    "                param -= lr * param.grad\n",
    "        \n",
    "        # 記錄訓練結果\n",
    "        linear_layer = model[0]\n",
    "        if (epoch+1) % 1000 == 0 or epochs < 1000:\n",
    "            w_list.append(linear_layer.weight[:, 0].item())  # w.item()：轉成常數\n",
    "            b_list.append(linear_layer.bias.item())\n",
    "            loss_list.append(MSE.item())\n",
    "        \n",
    "    return w_list, b_list, loss_list"
   ]
  },
  {
   "cell_type": "markdown",
   "metadata": {},
   "source": [
    "## 執行訓練"
   ]
  },
  {
   "cell_type": "code",
   "execution_count": 37,
   "metadata": {
    "scrolled": false
   },
   "outputs": [
    {
     "name": "stdout",
     "output_type": "stream",
     "text": [
      "w=0.902889609336853, b=0.7424326539039612\n"
     ]
    }
   ],
   "source": [
    "# 執行訓練\n",
    "X2, y2 = torch.FloatTensor(X.reshape(X.shape[0], 1)), torch.FloatTensor(y)\n",
    "w_list, b_list, loss_list = train(X2, y2)\n",
    "\n",
    "# 取得 w、b 的最佳解\n",
    "print(f'w={w_list[-1]}, b={b_list[-1]}')"
   ]
  },
  {
   "cell_type": "code",
   "execution_count": 38,
   "metadata": {
    "scrolled": false
   },
   "outputs": [
    {
     "name": "stdout",
     "output_type": "stream",
     "text": [
      "w=0.7512918710708618, b=6.102823257446289\n"
     ]
    }
   ],
   "source": [
    "# 使用不同學習率及更多的執行週期訓練\n",
    "X2, y2 = torch.FloatTensor(X.reshape(X.shape[0], 1)), torch.FloatTensor(y)\n",
    "w_list, b_list, loss_list = train(X2, y2, epochs=10**5, lr=1e-5)\n",
    "\n",
    "# 取得 w、b 的最佳解\n",
    "print(f'w={w_list[-1]}, b={b_list[-1]}')"
   ]
  },
  {
   "cell_type": "code",
   "execution_count": 39,
   "metadata": {
    "scrolled": false
   },
   "outputs": [
    {
     "name": "stdout",
     "output_type": "stream",
     "text": [
      "w=0.751280589320593, b=6.103222128082408\n"
     ]
    }
   ],
   "source": [
    "# 執行訓練\n",
    "coef = np.polyfit(X, y, deg=1)\n",
    "\n",
    "# 取得 w、b 的最佳解\n",
    "print(f'w={coef[0]}, b={coef[1]}')"
   ]
  },
  {
   "cell_type": "code",
   "execution_count": 40,
   "metadata": {},
   "outputs": [
    {
     "data": {
      "text/plain": [
       "(0.7512805893205929, 6.103222128082415)"
      ]
     },
     "execution_count": 40,
     "metadata": {},
     "output_type": "execute_result"
    }
   ],
   "source": [
    "from sklearn.linear_model import LinearRegression\n",
    "\n",
    "X2 = X.reshape(X.shape[0], 1)\n",
    "\n",
    "lr = LinearRegression()\n",
    "lr.fit(X2, y)\n",
    "\n",
    "lr.coef_[0], lr.intercept_"
   ]
  },
  {
   "cell_type": "markdown",
   "metadata": {},
   "source": [
    "## 顯示迴歸線"
   ]
  },
  {
   "cell_type": "code",
   "execution_count": 41,
   "metadata": {
    "scrolled": true
   },
   "outputs": [
    {
     "data": {
      "text/plain": [
       "<matplotlib.legend.Legend at 0x1692d8dd0>"
      ]
     },
     "execution_count": 41,
     "metadata": {},
     "output_type": "execute_result"
    },
    {
     "data": {
      "image/png": "[encoded data removed]",
      "text/plain": [
       "<Figure size 640x480 with 1 Axes>"
      ]
     },
     "metadata": {},
     "output_type": "display_data"
    }
   ],
   "source": [
    "import matplotlib.pyplot as plt \n",
    "\n",
    "plt.scatter(X, y, label='data')\n",
    "plt.plot(X, w_list[-1] * X + b_list[-1], 'r-', label='predicted')\n",
    "plt.legend()"
   ]
  },
  {
   "cell_type": "code",
   "execution_count": 42,
   "metadata": {
    "scrolled": true
   },
   "outputs": [
    {
     "data": {
      "text/plain": [
       "<matplotlib.legend.Legend at 0x1693630b0>"
      ]
     },
     "execution_count": 42,
     "metadata": {},
     "output_type": "execute_result"
    },
    {
     "data": {
      "image/png": "[encoded data removed]",
      "text/plain": [
       "<Figure size 640x480 with 1 Axes>"
      ]
     },
     "metadata": {},
     "output_type": "display_data"
    }
   ],
   "source": [
    "# NumPy 求得的迴歸線\n",
    "import matplotlib.pyplot as plt \n",
    "\n",
    "plt.scatter(X, y, label='data')\n",
    "plt.plot(X, coef[0] * X + coef[1], 'r-', label='predicted')\n",
    "plt.legend()"
   ]
  },
  {
   "cell_type": "code",
   "execution_count": 43,
   "metadata": {
    "scrolled": false
   },
   "outputs": [
    {
     "data": {
      "text/plain": [
       "[<matplotlib.lines.Line2D at 0x1693fb440>]"
      ]
     },
     "execution_count": 43,
     "metadata": {},
     "output_type": "execute_result"
    },
    {
     "data": {
      "image/png": "[encoded data removed]",
      "text/plain": [
       "<Figure size 640x480 with 1 Axes>"
      ]
     },
     "metadata": {},
     "output_type": "display_data"
    }
   ],
   "source": [
    "# 損失函數繪圖\n",
    "plt.plot(loss_list)"
   ]
  },
  {
   "cell_type": "code",
   "execution_count": 44,
   "metadata": {},
   "outputs": [
    {
     "data": {
      "text/plain": [
       "[6752.4052734375,\n",
       " 6502.6728515625,\n",
       " 6426.84521484375,\n",
       " 6403.8203125,\n",
       " 6396.82958984375,\n",
       " 6394.70654296875,\n",
       " 6394.0625,\n",
       " 6393.86669921875,\n",
       " 6393.8076171875,\n",
       " 6393.78955078125,\n",
       " 6393.78369140625,\n",
       " 6393.78271484375,\n",
       " 6393.78173828125,\n",
       " 6393.78173828125,\n",
       " 6393.78125,\n",
       " 6393.78076171875,\n",
       " 6393.78125,\n",
       " 6393.78125,\n",
       " 6393.78125,\n",
       " 6393.78125,\n",
       " 6393.78125,\n",
       " 6393.78125,\n",
       " 6393.78125,\n",
       " 6393.78125,\n",
       " 6393.78125,\n",
       " 6393.78125,\n",
       " 6393.78125,\n",
       " 6393.78125,\n",
       " 6393.78125,\n",
       " 6393.78125,\n",
       " 6393.78125,\n",
       " 6393.78125,\n",
       " 6393.78125,\n",
       " 6393.78125,\n",
       " 6393.78125,\n",
       " 6393.78125,\n",
       " 6393.78125,\n",
       " 6393.78125,\n",
       " 6393.78125,\n",
       " 6393.78125,\n",
       " 6393.78125,\n",
       " 6393.78125,\n",
       " 6393.78125,\n",
       " 6393.78125,\n",
       " 6393.78125,\n",
       " 6393.78125,\n",
       " 6393.78125,\n",
       " 6393.78125,\n",
       " 6393.78125,\n",
       " 6393.78125,\n",
       " 6393.78125,\n",
       " 6393.78125,\n",
       " 6393.78125,\n",
       " 6393.78125,\n",
       " 6393.78125,\n",
       " 6393.78125,\n",
       " 6393.78125,\n",
       " 6393.78125,\n",
       " 6393.78125,\n",
       " 6393.78125,\n",
       " 6393.78125,\n",
       " 6393.78125,\n",
       " 6393.78125,\n",
       " 6393.78125,\n",
       " 6393.78125,\n",
       " 6393.78125,\n",
       " 6393.78125,\n",
       " 6393.78125,\n",
       " 6393.78125,\n",
       " 6393.78125,\n",
       " 6393.78125,\n",
       " 6393.78125,\n",
       " 6393.78125,\n",
       " 6393.78125,\n",
       " 6393.78125,\n",
       " 6393.78125,\n",
       " 6393.78125,\n",
       " 6393.78125,\n",
       " 6393.78125,\n",
       " 6393.78125,\n",
       " 6393.78125,\n",
       " 6393.78125,\n",
       " 6393.78125,\n",
       " 6393.78125,\n",
       " 6393.78125,\n",
       " 6393.78125,\n",
       " 6393.78125,\n",
       " 6393.78125,\n",
       " 6393.78125,\n",
       " 6393.78125,\n",
       " 6393.78125,\n",
       " 6393.78125,\n",
       " 6393.78125,\n",
       " 6393.78125,\n",
       " 6393.78125,\n",
       " 6393.78125,\n",
       " 6393.78125,\n",
       " 6393.78125,\n",
       " 6393.78125,\n",
       " 6393.78125]"
      ]
     },
     "execution_count": 44,
     "metadata": {},
     "output_type": "execute_result"
    }
   ],
   "source": [
    "loss_list"
   ]
  },
  {
   "cell_type": "code",
   "execution_count": 45,
   "metadata": {
    "scrolled": false
   },
   "outputs": [
    {
     "data": {
      "text/plain": [
       "[0.8493097424507141,\n",
       " 0.8052979707717896,\n",
       " 0.7810460329055786,\n",
       " 0.7676823139190674,\n",
       " 0.7603184580802917,\n",
       " 0.7562608122825623,\n",
       " 0.754024863243103,\n",
       " 0.7527927756309509,\n",
       " 0.752113938331604,\n",
       " 0.7517398595809937,\n",
       " 0.7515337467193604,\n",
       " 0.751420259475708,\n",
       " 0.7513575553894043,\n",
       " 0.7513237595558167,\n",
       " 0.7513055801391602,\n",
       " 0.7512921094894409,\n",
       " 0.7512918710708618,\n",
       " 0.7512918710708618,\n",
       " 0.7512918710708618,\n",
       " 0.7512918710708618,\n",
       " 0.7512918710708618,\n",
       " 0.7512918710708618,\n",
       " 0.7512918710708618,\n",
       " 0.7512918710708618,\n",
       " 0.7512918710708618,\n",
       " 0.7512918710708618,\n",
       " 0.7512918710708618,\n",
       " 0.7512918710708618,\n",
       " 0.7512918710708618,\n",
       " 0.7512918710708618,\n",
       " 0.7512918710708618,\n",
       " 0.7512918710708618,\n",
       " 0.7512918710708618,\n",
       " 0.7512918710708618,\n",
       " 0.7512918710708618,\n",
       " 0.7512918710708618,\n",
       " 0.7512918710708618,\n",
       " 0.7512918710708618,\n",
       " 0.7512918710708618,\n",
       " 0.7512918710708618,\n",
       " 0.7512918710708618,\n",
       " 0.7512918710708618,\n",
       " 0.7512918710708618,\n",
       " 0.7512918710708618,\n",
       " 0.7512918710708618,\n",
       " 0.7512918710708618,\n",
       " 0.7512918710708618,\n",
       " 0.7512918710708618,\n",
       " 0.7512918710708618,\n",
       " 0.7512918710708618,\n",
       " 0.7512918710708618,\n",
       " 0.7512918710708618,\n",
       " 0.7512918710708618,\n",
       " 0.7512918710708618,\n",
       " 0.7512918710708618,\n",
       " 0.7512918710708618,\n",
       " 0.7512918710708618,\n",
       " 0.7512918710708618,\n",
       " 0.7512918710708618,\n",
       " 0.7512918710708618,\n",
       " 0.7512918710708618,\n",
       " 0.7512918710708618,\n",
       " 0.7512918710708618,\n",
       " 0.7512918710708618,\n",
       " 0.7512918710708618,\n",
       " 0.7512918710708618,\n",
       " 0.7512918710708618,\n",
       " 0.7512918710708618,\n",
       " 0.7512918710708618,\n",
       " 0.7512918710708618,\n",
       " 0.7512918710708618,\n",
       " 0.7512918710708618,\n",
       " 0.7512918710708618,\n",
       " 0.7512918710708618,\n",
       " 0.7512918710708618,\n",
       " 0.7512918710708618,\n",
       " 0.7512918710708618,\n",
       " 0.7512918710708618,\n",
       " 0.7512918710708618,\n",
       " 0.7512918710708618,\n",
       " 0.7512918710708618,\n",
       " 0.7512918710708618,\n",
       " 0.7512918710708618,\n",
       " 0.7512918710708618,\n",
       " 0.7512918710708618,\n",
       " 0.7512918710708618,\n",
       " 0.7512918710708618,\n",
       " 0.7512918710708618,\n",
       " 0.7512918710708618,\n",
       " 0.7512918710708618,\n",
       " 0.7512918710708618,\n",
       " 0.7512918710708618,\n",
       " 0.7512918710708618,\n",
       " 0.7512918710708618,\n",
       " 0.7512918710708618,\n",
       " 0.7512918710708618,\n",
       " 0.7512918710708618,\n",
       " 0.7512918710708618,\n",
       " 0.7512918710708618,\n",
       " 0.7512918710708618]"
      ]
     },
     "execution_count": 45,
     "metadata": {},
     "output_type": "execute_result"
    }
   ],
   "source": [
    "w_list"
   ]
  },
  {
   "cell_type": "code",
   "execution_count": null,
   "metadata": {},
   "outputs": [],
   "source": []
  }
 ],
 "metadata": {
  "kernelspec": {
   "display_name": "Python 3",
   "language": "python",
   "name": "python3"
  },
  "language_info": {
   "codemirror_mode": {
    "name": "ipython",
    "version": 3
   },
   "file_extension": ".py",
   "mimetype": "text/x-python",
   "name": "python",
   "nbconvert_exporter": "python",
   "pygments_lexer": "ipython3",
   "version": "3.12.4"
  }
 },
 "nbformat": 4,
 "nbformat_minor": 4
}
